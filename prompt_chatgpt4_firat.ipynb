{
 "cells": [
  {
   "cell_type": "code",
   "execution_count": null,
   "metadata": {},
   "outputs": [],
   "source": [
    "import os\n",
    "from openai import AzureOpenAI\n",
    "\n",
    "import prompt_generator_for_gpt "
   ]
  },
  {
   "cell_type": "code",
   "execution_count": null,
   "metadata": {},
   "outputs": [],
   "source": [
    "prompt_str = prompt_generator_for_gpt.prompt_only_text()\n",
    "print(prompt_str)"
   ]
  },
  {
   "cell_type": "code",
   "execution_count": null,
   "metadata": {},
   "outputs": [],
   "source": [
    "\n",
    "## more details on https://github.com/openai/openai-python\n",
    "\n",
    "AZURE_CH_ENDPOINT = 'https://switzerlandnorth.api.cognitive.microsoft.com/'\n",
    "fname_CHATGPT_KEY = 'CHATGPT_TOKEN.txt' # TODO: change to your own API key. This is located under Home > Azure AI Services | Azure OpenAI > hackathon-hack-openai-10 > Keys and Endpoint > Key 1\n",
    "if os.path.isfile(fname_CHATGPT_KEY):\n",
    "    with open(fname_CHATGPT_KEY, 'r') as fh:\n",
    "        AZURE_CHATGPT_API_KEY = fh.read()\n",
    "else:\n",
    "    print('Error: AZURE_CHATGPT_API_KEY file not found')\n",
    "\n",
    "client = AzureOpenAI(\n",
    "  azure_endpoint = AZURE_CH_ENDPOINT, #os.getenv(\"AZURE_OPENAI_ENDPOINT\"), \n",
    "  api_key = AZURE_CHATGPT_API_KEY, # os.getenv(\"AZURE_OPENAI_KEY\"),  \n",
    "  api_version=\"2023-05-15\"\n",
    ")\n",
    "\n",
    "response = client.chat.completions.create(\n",
    "    model=\"gpt-35-turbo\", # model = \"deployment_name\".\n",
    "    # model='gpt-4', ## better, but a lot slower, and more expensive\n",
    "    messages=[\n",
    "        # {\"role\": \"system\", \"content\": \"You are a helpful assistant.\"},\n",
    "        # {\"role\": \"user\", \"content\": \"Does Azure OpenAI support customer managed keys?\"},\n",
    "        # {\"role\": \"assistant\", \"content\": \"Yes, customer managed keys are supported by Azure OpenAI.\"},\n",
    "        # {\"role\": \"user\", \"content\": \"Do other Azure AI services support this too?\"}\n",
    "        {\"role\": \"user\", \"content\": prompt_str}\n",
    "    ]\n",
    ")\n",
    "\n",
    "response_txt = response.choices[0].message.content\n",
    "print(response_txt)"
   ]
  }
 ],
 "metadata": {
  "kernelspec": {
   "display_name": "sdsc-hackathon",
   "language": "python",
   "name": "python3"
  },
  "language_info": {
   "codemirror_mode": {
    "name": "ipython",
    "version": 3
   },
   "file_extension": ".py",
   "mimetype": "text/x-python",
   "name": "python",
   "nbconvert_exporter": "python",
   "pygments_lexer": "ipython3",
   "version": "3.10.0"
  }
 },
 "nbformat": 4,
 "nbformat_minor": 2
}
