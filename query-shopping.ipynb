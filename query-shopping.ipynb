{
 "cells": [
  {
   "cell_type": "code",
   "execution_count": null,
   "metadata": {},
   "outputs": [],
   "source": [
    "# import os\n",
    "# import requests\n",
    "\n",
    "# fname_scraper_API_key = 'scraper_API_key.txt' # TODO: change to your own API key\n",
    "# if os.path.isfile(fname_scraper_API_key):\n",
    "#     with open(fname_scraper_API_key, 'r') as fh:\n",
    "#         scraper_API_key = fh.read()\n",
    "# else:\n",
    "#     print('Error: scraper API key file not found')\n",
    "#     exit()\n",
    "\n",
    "# payload = { 'api_key': scraper_API_key, 'url': 'https://www.amazon.de', 'retry_404': True, 'autoparse': True, 'country_code': 'eu', 'device_type': 'desktop' } \n",
    "# r = requests.get('https://api.scraperapi.com/', params=payload)\n",
    "# print(r.text)\n"
   ]
  },
  {
   "cell_type": "code",
   "execution_count": null,
   "metadata": {},
   "outputs": [],
   "source": [
    "import os\n",
    "import numpy as np\n",
    "import json\n",
    "import http.client\n",
    "import urllib.parse\n",
    "\n",
    "\n",
    "def search_product(query: str, max_items: int=4, rapidAPI_key_index: int=0):\n",
    "    fname_rapidAPI_keys = 'RAPIDAPI_KEYS.txt'\n",
    "    RAPID_API_KEYS = []\n",
    "    if os.path.isfile(fname_rapidAPI_keys):\n",
    "        with open(fname_rapidAPI_keys, 'r') as fh:\n",
    "            for key in fh:\n",
    "                RAPID_API_KEYS.append(key.strip())\n",
    "    else:\n",
    "        print('Error: RAPIDAPI_KEYS.txt file not found')\n",
    "    \n",
    "    if rapidAPI_key_index >= len(RAPID_API_KEYS):\n",
    "        print('Error: Too many shopping requests been made. Please wait for a while.')\n",
    "        return None\n",
    "    \n",
    "    RapidAPI_host = \"real-time-product-search.p.rapidapi.com\"\n",
    "    conn = http.client.HTTPSConnection(RapidAPI_host)\n",
    "\n",
    "    headers = {\n",
    "        'X-RapidAPI-Key': RAPID_API_KEYS[rapidAPI_key_index],\n",
    "        'X-RapidAPI-Host': RapidAPI_host\n",
    "    }\n",
    "\n",
    "    formatted_query = urllib.parse.quote(query)\n",
    "    conn.request(\"GET\", f\"/search?q={formatted_query}&country=ch&language=en\", headers=headers)\n",
    "\n",
    "    res = conn.getresponse()\n",
    "    \n",
    "\n",
    "\n",
    "    data = res.read().decode(\"utf-8\")\n",
    "    query_result = json.loads(data)\n",
    "\n",
    "    if hasattr(query_result, 'message'):\n",
    "        if query_result['message'][len('You have exceeded')] == 'You have exceeded':\n",
    "            return search_product(query, max_items, rapidAPI_key=RAPID_API_KEYS[rapidAPI_key_index+1])\n",
    "    \n",
    "    if 'data' not in query_result:\n",
    "        return None\n",
    "    thumbnails = [query_result['data'][i]['product_photos'][0] for i in range(np.min((max_items, len(query_result['data']))))]\n",
    "    links = [query_result['data'][i]['offer']['offer_page_url'] for i in range(np.min((max_items, len(query_result['data']))))]\n",
    "    prices = [query_result['data'][i]['offer']['price'] for i in range(np.min((max_items, len(query_result['data']))))]\n",
    "    prices = [price.replace('\\xa0', ' ').replace(' + tax', '') for price in prices]\n",
    "    return {'thumbnails': thumbnails, 'links': links, 'prices': prices, 'query': query}"
   ]
  },
  {
   "cell_type": "code",
   "execution_count": null,
   "metadata": {},
   "outputs": [],
   "source": [
    "clothing_str_chatgpt = 'type of clothing,2-3 word description\\nJacket,Winter Parka\\nPants,Thermal Trousers\\nBoots,Insulated Snow Boots\\nGloves,Extreme Cold-Weather Gloves\\nHat,Fleece-lined Beanie\\nScarf,Thick Wool Scarf\\nThermal Socks,Merino Wool Socks\\nBase Layer,Long-sleeve Thermal Top\\nOuter Layer,Waterproof Shell'\n",
    "shopping_search_queries = clothing_str_chatgpt.split('\\n')[1:]\n"
   ]
  },
  {
   "cell_type": "code",
   "execution_count": null,
   "metadata": {},
   "outputs": [],
   "source": [
    "res0 = search_product(shopping_search_queries[0], max_items=2)"
   ]
  },
  {
   "cell_type": "code",
   "execution_count": null,
   "metadata": {},
   "outputs": [],
   "source": [
    "res1 = search_product(shopping_search_queries[1], max_items=2)"
   ]
  },
  {
   "cell_type": "code",
   "execution_count": null,
   "metadata": {},
   "outputs": [],
   "source": [
    "res2 = search_product(shopping_search_queries[2], max_items=2)\n"
   ]
  },
  {
   "cell_type": "code",
   "execution_count": null,
   "metadata": {},
   "outputs": [],
   "source": [
    "res2\n"
   ]
  }
 ],
 "metadata": {
  "kernelspec": {
   "display_name": "sdsc-hackathon",
   "language": "python",
   "name": "python3"
  },
  "language_info": {
   "codemirror_mode": {
    "name": "ipython",
    "version": 3
   },
   "file_extension": ".py",
   "mimetype": "text/x-python",
   "name": "python",
   "nbconvert_exporter": "python",
   "pygments_lexer": "ipython3",
   "version": "3.10.0"
  }
 },
 "nbformat": 4,
 "nbformat_minor": 2
}
