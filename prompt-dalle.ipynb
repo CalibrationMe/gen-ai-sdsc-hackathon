{
 "cells": [
  {
   "cell_type": "code",
   "execution_count": null,
   "metadata": {},
   "outputs": [],
   "source": [
    "\n",
    "from openai import AzureOpenAI\n",
    "import os\n",
    "import requests\n",
    "from PIL import Image\n",
    "import json\n",
    "\n",
    "import prompt_generator_for_gpt"
   ]
  },
  {
   "cell_type": "code",
   "execution_count": null,
   "metadata": {},
   "outputs": [],
   "source": [
    "fname_DALLE_KEY = 'DALLE_TOKEN.txt' # TODO: change to your own API key\n",
    "if os.path.isfile(fname_DALLE_KEY):\n",
    "    with open(fname_DALLE_KEY, 'r') as fh:\n",
    "        AZURE_DALLE_API_KEY = fh.read()\n",
    "else:\n",
    "    print('Error: AZURE_DALLE_API_KEY file not found')\n",
    "AZURE_OPENAI_ENDPOINT = 'https://rhaetian-poppy-sweden.openai.azure.com/'\n",
    "\n",
    "client = AzureOpenAI(\n",
    "    api_version=\"2023-12-01-preview\",  \n",
    "    api_key=AZURE_DALLE_API_KEY, #os.environ[\"AZURE_OPENAI_API_KEY\"],  \n",
    "    azure_endpoint=AZURE_OPENAI_ENDPOINT # os.environ['AZURE_OPENAI_ENDPOINT']\n",
    ")\n",
    "\n",
    "prompt_str = prompt_generator_for_gpt.prompt_string()\n",
    "\n",
    "result = client.images.generate(\n",
    "    model=\"rhaetian-poppy-dalle3\", # the name of your DALL-E 3 deployment\n",
    "    prompt=prompt_str,\n",
    "    n=1\n",
    ")\n",
    "\n",
    "json_response = json.loads(result.model_dump_json())\n",
    "\n",
    "# Set the directory for the stored image\n",
    "image_dir = os.path.join(os.curdir, 'images')\n",
    "\n",
    "# If the directory doesn't exist, create it\n",
    "if not os.path.isdir(image_dir):\n",
    "    os.mkdir(image_dir)\n",
    "\n",
    "# Initialize the image path (note the filetype should be png)\n",
    "image_path = os.path.join(image_dir, 'generated_image.png')\n",
    "\n",
    "# Retrieve the generated image\n",
    "image_url = json_response[\"data\"][0][\"url\"]  # extract image URL from response\n",
    "generated_image = requests.get(image_url).content  # download the image\n",
    "with open(image_path, \"wb\") as image_file:\n",
    "    image_file.write(generated_image)\n",
    "\n",
    "# Display the image in the default image viewer\n",
    "image = Image.open(image_path)\n",
    "image.show()"
   ]
  },
  {
   "cell_type": "code",
   "execution_count": null,
   "metadata": {},
   "outputs": [],
   "source": [
    "prompt_str"
   ]
  }
 ],
 "metadata": {
  "kernelspec": {
   "display_name": "sdsc-hackathon",
   "language": "python",
   "name": "python3"
  },
  "language_info": {
   "codemirror_mode": {
    "name": "ipython",
    "version": 3
   },
   "file_extension": ".py",
   "mimetype": "text/x-python",
   "name": "python",
   "nbconvert_exporter": "python",
   "pygments_lexer": "ipython3",
   "version": "3.10.0"
  }
 },
 "nbformat": 4,
 "nbformat_minor": 2
}
